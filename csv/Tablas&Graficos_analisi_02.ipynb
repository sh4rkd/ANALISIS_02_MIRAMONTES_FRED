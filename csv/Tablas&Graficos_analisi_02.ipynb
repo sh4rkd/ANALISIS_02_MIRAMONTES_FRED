{
  "nbformat": 4,
  "nbformat_minor": 0,
  "metadata": {
    "colab": {
      "name": "Tablas&Graficos_analisi_02.ipynb",
      "provenance": [],
      "authorship_tag": "ABX9TyMuktyufyuWedyrdmwoelgK",
      "include_colab_link": true
    },
    "kernelspec": {
      "name": "python3",
      "display_name": "Python 3"
    },
    "language_info": {
      "name": "python"
    }
  },
  "cells": [
    {
      "cell_type": "markdown",
      "metadata": {
        "id": "view-in-github",
        "colab_type": "text"
      },
      "source": [
        "<a href=\"https://colab.research.google.com/github/sh4rkd/ANALISIS_02_MIRAMONTES_FRED/blob/master/csv/Tablas%26Graficos_analisi_02.ipynb\" target=\"_parent\"><img src=\"https://colab.research.google.com/assets/colab-badge.svg\" alt=\"Open In Colab\"/></a>"
      ]
    },
    {
      "cell_type": "code",
      "metadata": {
        "id": "JCAfC0AyWQRl"
      },
      "source": [
        "import pandas as pd\n",
        "import matplotlib.pyplot as plt\n",
        "import seaborn as sb"
      ],
      "execution_count": 117,
      "outputs": []
    },
    {
      "cell_type": "code",
      "metadata": {
        "id": "clBbhgbFWV8a"
      },
      "source": [
        "imports = pd.read_csv(\"https://github.com/sh4rkd/ANALISIS_02_MIRAMONTES_FRED/raw/master/csv/imports_exports(imports).csv\")\n",
        "exports = pd.read_csv(\"https://github.com/sh4rkd/ANALISIS_02_MIRAMONTES_FRED/raw/master/csv/imports_exports(exports).csv\")\n",
        "imports_transport = pd.read_csv(\"https://github.com/sh4rkd/ANALISIS_02_MIRAMONTES_FRED/raw/master/csv/transports(imports).csv\")\n",
        "exports_transport = pd.read_csv(\"https://github.com/sh4rkd/ANALISIS_02_MIRAMONTES_FRED/raw/master/csv/transports(exports).csv\")\n",
        "total_imports = pd.read_csv(\"https://github.com/sh4rkd/ANALISIS_02_MIRAMONTES_FRED/raw/master/csv/total(imports).csv\")\n",
        "total_exports = pd.read_csv(\"https://github.com/sh4rkd/ANALISIS_02_MIRAMONTES_FRED/raw/master/csv/total(exports).csv\")\n",
        "total_transports_imports = pd.read_csv(\"https://github.com/sh4rkd/ANALISIS_02_MIRAMONTES_FRED/raw/master/csv/total_transport(imports).csv\")\n",
        "total_transports_exports = pd.read_csv(\"https://github.com/sh4rkd/ANALISIS_02_MIRAMONTES_FRED/raw/master/csv/total_transport(exports).csv\")"
      ],
      "execution_count": 100,
      "outputs": []
    },
    {
      "cell_type": "code",
      "metadata": {
        "id": "-xEHMw_nc7F9"
      },
      "source": [
        "total_imports.columns = ['Country_import','Count','Value','Percent']\n",
        "total_exports.columns = ['Country_import','Count','Value','Percent']\n",
        "total_imports.set_index('Country_import', inplace = True)"
      ],
      "execution_count": 123,
      "outputs": []
    },
    {
      "cell_type": "code",
      "metadata": {
        "colab": {
          "base_uri": "https://localhost:8080/",
          "height": 359
        },
        "id": "Fom9OzbmXFpi",
        "outputId": "35696f0d-39b3-40e2-ed49-da60e47b80fd"
      },
      "source": [
        "imports"
      ],
      "execution_count": 124,
      "outputs": [
        {
          "output_type": "execute_result",
          "data": {
            "text/html": [
              "<div>\n",
              "<style scoped>\n",
              "    .dataframe tbody tr th:only-of-type {\n",
              "        vertical-align: middle;\n",
              "    }\n",
              "\n",
              "    .dataframe tbody tr th {\n",
              "        vertical-align: top;\n",
              "    }\n",
              "\n",
              "    .dataframe thead th {\n",
              "        text-align: right;\n",
              "    }\n",
              "</style>\n",
              "<table border=\"1\" class=\"dataframe\">\n",
              "  <thead>\n",
              "    <tr style=\"text-align: right;\">\n",
              "      <th></th>\n",
              "      <th>Origin</th>\n",
              "      <th>Destiny</th>\n",
              "      <th>Total</th>\n",
              "    </tr>\n",
              "  </thead>\n",
              "  <tbody>\n",
              "    <tr>\n",
              "      <th>0</th>\n",
              "      <td>Japan</td>\n",
              "      <td>Mexico</td>\n",
              "      <td>385</td>\n",
              "    </tr>\n",
              "    <tr>\n",
              "      <th>1</th>\n",
              "      <td>China</td>\n",
              "      <td>Mexico</td>\n",
              "      <td>351</td>\n",
              "    </tr>\n",
              "    <tr>\n",
              "      <th>2</th>\n",
              "      <td>China</td>\n",
              "      <td>Japan</td>\n",
              "      <td>343</td>\n",
              "    </tr>\n",
              "    <tr>\n",
              "      <th>3</th>\n",
              "      <td>Germany</td>\n",
              "      <td>China</td>\n",
              "      <td>328</td>\n",
              "    </tr>\n",
              "    <tr>\n",
              "      <th>4</th>\n",
              "      <td>South Korea</td>\n",
              "      <td>Japan</td>\n",
              "      <td>294</td>\n",
              "    </tr>\n",
              "    <tr>\n",
              "      <th>5</th>\n",
              "      <td>Singapore</td>\n",
              "      <td>Thailand</td>\n",
              "      <td>273</td>\n",
              "    </tr>\n",
              "    <tr>\n",
              "      <th>6</th>\n",
              "      <td>Japan</td>\n",
              "      <td>Canada</td>\n",
              "      <td>273</td>\n",
              "    </tr>\n",
              "    <tr>\n",
              "      <th>7</th>\n",
              "      <td>Germany</td>\n",
              "      <td>Mexico</td>\n",
              "      <td>231</td>\n",
              "    </tr>\n",
              "    <tr>\n",
              "      <th>8</th>\n",
              "      <td>Mexico</td>\n",
              "      <td>USA</td>\n",
              "      <td>228</td>\n",
              "    </tr>\n",
              "    <tr>\n",
              "      <th>9</th>\n",
              "      <td>USA</td>\n",
              "      <td>Canada</td>\n",
              "      <td>217</td>\n",
              "    </tr>\n",
              "  </tbody>\n",
              "</table>\n",
              "</div>"
            ],
            "text/plain": [
              "        Origin   Destiny  Total\n",
              "0        Japan    Mexico    385\n",
              "1        China    Mexico    351\n",
              "2        China     Japan    343\n",
              "3      Germany     China    328\n",
              "4  South Korea     Japan    294\n",
              "5    Singapore  Thailand    273\n",
              "6        Japan    Canada    273\n",
              "7      Germany    Mexico    231\n",
              "8       Mexico       USA    228\n",
              "9          USA    Canada    217"
            ]
          },
          "metadata": {},
          "execution_count": 124
        }
      ]
    },
    {
      "cell_type": "code",
      "metadata": {
        "colab": {
          "base_uri": "https://localhost:8080/",
          "height": 357
        },
        "id": "Xc-7Rcg7aBr6",
        "outputId": "116493f5-5ac3-4b20-c757-966208e5f546"
      },
      "source": [
        "exports"
      ],
      "execution_count": null,
      "outputs": [
        {
          "output_type": "execute_result",
          "data": {
            "text/html": [
              "<div>\n",
              "<style scoped>\n",
              "    .dataframe tbody tr th:only-of-type {\n",
              "        vertical-align: middle;\n",
              "    }\n",
              "\n",
              "    .dataframe tbody tr th {\n",
              "        vertical-align: top;\n",
              "    }\n",
              "\n",
              "    .dataframe thead th {\n",
              "        text-align: right;\n",
              "    }\n",
              "</style>\n",
              "<table border=\"1\" class=\"dataframe\">\n",
              "  <thead>\n",
              "    <tr style=\"text-align: right;\">\n",
              "      <th></th>\n",
              "      <th>Origin</th>\n",
              "      <th>Destiny</th>\n",
              "      <th>Total</th>\n",
              "    </tr>\n",
              "  </thead>\n",
              "  <tbody>\n",
              "    <tr>\n",
              "      <th>0</th>\n",
              "      <td>South Korea</td>\n",
              "      <td>Vietnam</td>\n",
              "      <td>497</td>\n",
              "    </tr>\n",
              "    <tr>\n",
              "      <th>1</th>\n",
              "      <td>Netherlands</td>\n",
              "      <td>Belgium</td>\n",
              "      <td>437</td>\n",
              "    </tr>\n",
              "    <tr>\n",
              "      <th>2</th>\n",
              "      <td>USA</td>\n",
              "      <td>Netherlands</td>\n",
              "      <td>436</td>\n",
              "    </tr>\n",
              "    <tr>\n",
              "      <th>3</th>\n",
              "      <td>Japan</td>\n",
              "      <td>Mexico</td>\n",
              "      <td>385</td>\n",
              "    </tr>\n",
              "    <tr>\n",
              "      <th>4</th>\n",
              "      <td>China</td>\n",
              "      <td>Mexico</td>\n",
              "      <td>351</td>\n",
              "    </tr>\n",
              "    <tr>\n",
              "      <th>5</th>\n",
              "      <td>China</td>\n",
              "      <td>Japan</td>\n",
              "      <td>343</td>\n",
              "    </tr>\n",
              "    <tr>\n",
              "      <th>6</th>\n",
              "      <td>Germany</td>\n",
              "      <td>China</td>\n",
              "      <td>328</td>\n",
              "    </tr>\n",
              "    <tr>\n",
              "      <th>7</th>\n",
              "      <td>Japan</td>\n",
              "      <td>Brazil</td>\n",
              "      <td>306</td>\n",
              "    </tr>\n",
              "    <tr>\n",
              "      <th>8</th>\n",
              "      <td>Germany</td>\n",
              "      <td>France</td>\n",
              "      <td>299</td>\n",
              "    </tr>\n",
              "    <tr>\n",
              "      <th>9</th>\n",
              "      <td>South Korea</td>\n",
              "      <td>Japan</td>\n",
              "      <td>294</td>\n",
              "    </tr>\n",
              "  </tbody>\n",
              "</table>\n",
              "</div>"
            ],
            "text/plain": [
              "        Origin      Destiny  Total\n",
              "0  South Korea      Vietnam    497\n",
              "1  Netherlands      Belgium    437\n",
              "2          USA  Netherlands    436\n",
              "3        Japan       Mexico    385\n",
              "4        China       Mexico    351\n",
              "5        China        Japan    343\n",
              "6      Germany        China    328\n",
              "7        Japan       Brazil    306\n",
              "8      Germany       France    299\n",
              "9  South Korea        Japan    294"
            ]
          },
          "metadata": {},
          "execution_count": 7
        }
      ]
    },
    {
      "cell_type": "code",
      "metadata": {
        "colab": {
          "base_uri": "https://localhost:8080/",
          "height": 297
        },
        "id": "LWup4Ca5aCmZ",
        "outputId": "4783fd2d-3a5b-4ffb-ec77-f5079d85b032"
      },
      "source": [
        "total_imports"
      ],
      "execution_count": 125,
      "outputs": [
        {
          "output_type": "execute_result",
          "data": {
            "text/html": [
              "<div>\n",
              "<style scoped>\n",
              "    .dataframe tbody tr th:only-of-type {\n",
              "        vertical-align: middle;\n",
              "    }\n",
              "\n",
              "    .dataframe tbody tr th {\n",
              "        vertical-align: top;\n",
              "    }\n",
              "\n",
              "    .dataframe thead th {\n",
              "        text-align: right;\n",
              "    }\n",
              "</style>\n",
              "<table border=\"1\" class=\"dataframe\">\n",
              "  <thead>\n",
              "    <tr style=\"text-align: right;\">\n",
              "      <th></th>\n",
              "      <th>Count</th>\n",
              "      <th>Value</th>\n",
              "      <th>Percent</th>\n",
              "    </tr>\n",
              "    <tr>\n",
              "      <th>Country_import</th>\n",
              "      <th></th>\n",
              "      <th></th>\n",
              "      <th></th>\n",
              "    </tr>\n",
              "  </thead>\n",
              "  <tbody>\n",
              "    <tr>\n",
              "      <th>Thailand</th>\n",
              "      <td>832</td>\n",
              "      <td>13745000000</td>\n",
              "      <td>24.753278</td>\n",
              "    </tr>\n",
              "    <tr>\n",
              "      <th>Mexico</th>\n",
              "      <td>432</td>\n",
              "      <td>8894000000</td>\n",
              "      <td>16.017145</td>\n",
              "    </tr>\n",
              "    <tr>\n",
              "      <th>United Arab Emirates</th>\n",
              "      <td>259</td>\n",
              "      <td>7848000000</td>\n",
              "      <td>14.133410</td>\n",
              "    </tr>\n",
              "    <tr>\n",
              "      <th>Japan</th>\n",
              "      <td>414</td>\n",
              "      <td>5828000000</td>\n",
              "      <td>10.495606</td>\n",
              "    </tr>\n",
              "    <tr>\n",
              "      <th>Germany</th>\n",
              "      <td>355</td>\n",
              "      <td>5109000000</td>\n",
              "      <td>9.200764</td>\n",
              "    </tr>\n",
              "    <tr>\n",
              "      <th>USA</th>\n",
              "      <td>201</td>\n",
              "      <td>3758000000</td>\n",
              "      <td>6.767757</td>\n",
              "    </tr>\n",
              "    <tr>\n",
              "      <th>India</th>\n",
              "      <td>157</td>\n",
              "      <td>3018000000</td>\n",
              "      <td>5.435096</td>\n",
              "    </tr>\n",
              "  </tbody>\n",
              "</table>\n",
              "</div>"
            ],
            "text/plain": [
              "                      Count        Value    Percent\n",
              "Country_import                                     \n",
              "Thailand                832  13745000000  24.753278\n",
              "Mexico                  432   8894000000  16.017145\n",
              "United Arab Emirates    259   7848000000  14.133410\n",
              "Japan                   414   5828000000  10.495606\n",
              "Germany                 355   5109000000   9.200764\n",
              "USA                     201   3758000000   6.767757\n",
              "India                   157   3018000000   5.435096"
            ]
          },
          "metadata": {},
          "execution_count": 125
        }
      ]
    },
    {
      "cell_type": "code",
      "metadata": {
        "colab": {
          "base_uri": "https://localhost:8080/",
          "height": 263
        },
        "id": "esjjh3uLaEOh",
        "outputId": "71d44494-9b50-4cbe-e6ba-56cb2e4a5550"
      },
      "source": [
        "imports.plot(kind = 'bar', stacked = 'True', alpha = 0.4, width = 0.9, figsize=(9,4));"
      ],
      "execution_count": 64,
      "outputs": [
        {
          "output_type": "display_data",
          "data": {
            "image/png": "[encoded data removed]",
            "text/plain": [
              "<Figure size 648x288 with 1 Axes>"
            ]
          },
          "metadata": {
            "needs_background": "light"
          }
        }
      ]
    },
    {
      "cell_type": "code",
      "metadata": {
        "colab": {
          "base_uri": "https://localhost:8080/",
          "height": 248
        },
        "id": "C7GcYJDmaxIq",
        "outputId": "62c96f49-5d76-49bd-b39a-4cc8104e27b5"
      },
      "source": [
        "plt.pie(total_imports.Percent, labels=total_imports.Country_import, autopct=\"%0.1f %%\", explode=(0.05, 0.04, 0.05, 0,0,0,0))\n",
        "plt.axis(\"equal\")\n",
        "plt.show()"
      ],
      "execution_count": null,
      "outputs": [
        {
          "output_type": "display_data",
          "data": {
            "image/png": "[encoded data removed]",
            "text/plain": [
              "<Figure size 432x288 with 1 Axes>"
            ]
          },
          "metadata": {}
        }
      ]
    },
    {
      "cell_type": "code",
      "metadata": {
        "id": "DXbytqEObwNK",
        "colab": {
          "base_uri": "https://localhost:8080/",
          "height": 262
        },
        "outputId": "a3b4cab1-9b76-4bc9-94db-d7e602933168"
      },
      "source": [
        "exports.plot(kind = 'bar', stacked = 'True', alpha = 0.4, width = 0.9, figsize=(9,4));"
      ],
      "execution_count": 65,
      "outputs": [
        {
          "output_type": "display_data",
          "data": {
            "image/png": "[encoded data removed]",
            "text/plain": [
              "<Figure size 648x288 with 1 Axes>"
            ]
          },
          "metadata": {
            "needs_background": "light"
          }
        }
      ]
    },
    {
      "cell_type": "code",
      "metadata": {
        "colab": {
          "base_uri": "https://localhost:8080/",
          "height": 359
        },
        "id": "BJlhastFtqNE",
        "outputId": "82104428-8b17-450e-d401-7e7b20704d5f"
      },
      "source": [
        "exports"
      ],
      "execution_count": 66,
      "outputs": [
        {
          "output_type": "execute_result",
          "data": {
            "text/html": [
              "<div>\n",
              "<style scoped>\n",
              "    .dataframe tbody tr th:only-of-type {\n",
              "        vertical-align: middle;\n",
              "    }\n",
              "\n",
              "    .dataframe tbody tr th {\n",
              "        vertical-align: top;\n",
              "    }\n",
              "\n",
              "    .dataframe thead th {\n",
              "        text-align: right;\n",
              "    }\n",
              "</style>\n",
              "<table border=\"1\" class=\"dataframe\">\n",
              "  <thead>\n",
              "    <tr style=\"text-align: right;\">\n",
              "      <th></th>\n",
              "      <th>Origin</th>\n",
              "      <th>Destiny</th>\n",
              "      <th>Total</th>\n",
              "    </tr>\n",
              "  </thead>\n",
              "  <tbody>\n",
              "    <tr>\n",
              "      <th>0</th>\n",
              "      <td>South Korea</td>\n",
              "      <td>Vietnam</td>\n",
              "      <td>497</td>\n",
              "    </tr>\n",
              "    <tr>\n",
              "      <th>1</th>\n",
              "      <td>Netherlands</td>\n",
              "      <td>Belgium</td>\n",
              "      <td>437</td>\n",
              "    </tr>\n",
              "    <tr>\n",
              "      <th>2</th>\n",
              "      <td>USA</td>\n",
              "      <td>Netherlands</td>\n",
              "      <td>436</td>\n",
              "    </tr>\n",
              "    <tr>\n",
              "      <th>3</th>\n",
              "      <td>Japan</td>\n",
              "      <td>Mexico</td>\n",
              "      <td>385</td>\n",
              "    </tr>\n",
              "    <tr>\n",
              "      <th>4</th>\n",
              "      <td>China</td>\n",
              "      <td>Mexico</td>\n",
              "      <td>351</td>\n",
              "    </tr>\n",
              "    <tr>\n",
              "      <th>5</th>\n",
              "      <td>China</td>\n",
              "      <td>Japan</td>\n",
              "      <td>343</td>\n",
              "    </tr>\n",
              "    <tr>\n",
              "      <th>6</th>\n",
              "      <td>Germany</td>\n",
              "      <td>China</td>\n",
              "      <td>328</td>\n",
              "    </tr>\n",
              "    <tr>\n",
              "      <th>7</th>\n",
              "      <td>Japan</td>\n",
              "      <td>Brazil</td>\n",
              "      <td>306</td>\n",
              "    </tr>\n",
              "    <tr>\n",
              "      <th>8</th>\n",
              "      <td>Germany</td>\n",
              "      <td>France</td>\n",
              "      <td>299</td>\n",
              "    </tr>\n",
              "    <tr>\n",
              "      <th>9</th>\n",
              "      <td>South Korea</td>\n",
              "      <td>Japan</td>\n",
              "      <td>294</td>\n",
              "    </tr>\n",
              "  </tbody>\n",
              "</table>\n",
              "</div>"
            ],
            "text/plain": [
              "        Origin      Destiny  Total\n",
              "0  South Korea      Vietnam    497\n",
              "1  Netherlands      Belgium    437\n",
              "2          USA  Netherlands    436\n",
              "3        Japan       Mexico    385\n",
              "4        China       Mexico    351\n",
              "5        China        Japan    343\n",
              "6      Germany        China    328\n",
              "7        Japan       Brazil    306\n",
              "8      Germany       France    299\n",
              "9  South Korea        Japan    294"
            ]
          },
          "metadata": {},
          "execution_count": 66
        }
      ]
    },
    {
      "cell_type": "code",
      "metadata": {
        "colab": {
          "base_uri": "https://localhost:8080/",
          "height": 142
        },
        "id": "fh_aABLftq21",
        "outputId": "4d08e419-76c9-44ef-dce2-621257f9f617"
      },
      "source": [
        "exports_transport"
      ],
      "execution_count": 68,
      "outputs": [
        {
          "output_type": "execute_result",
          "data": {
            "text/html": [
              "<div>\n",
              "<style scoped>\n",
              "    .dataframe tbody tr th:only-of-type {\n",
              "        vertical-align: middle;\n",
              "    }\n",
              "\n",
              "    .dataframe tbody tr th {\n",
              "        vertical-align: top;\n",
              "    }\n",
              "\n",
              "    .dataframe thead th {\n",
              "        text-align: right;\n",
              "    }\n",
              "</style>\n",
              "<table border=\"1\" class=\"dataframe\">\n",
              "  <thead>\n",
              "    <tr style=\"text-align: right;\">\n",
              "      <th></th>\n",
              "      <th>Transports</th>\n",
              "      <th>Total</th>\n",
              "    </tr>\n",
              "  </thead>\n",
              "  <tbody>\n",
              "    <tr>\n",
              "      <th>0</th>\n",
              "      <td>Sea</td>\n",
              "      <td>65592622000</td>\n",
              "    </tr>\n",
              "    <tr>\n",
              "      <th>1</th>\n",
              "      <td>Rail</td>\n",
              "      <td>34505043000</td>\n",
              "    </tr>\n",
              "    <tr>\n",
              "      <th>2</th>\n",
              "      <td>Air</td>\n",
              "      <td>32785147000</td>\n",
              "    </tr>\n",
              "  </tbody>\n",
              "</table>\n",
              "</div>"
            ],
            "text/plain": [
              "  Transports        Total\n",
              "0        Sea  65592622000\n",
              "1       Rail  34505043000\n",
              "2        Air  32785147000"
            ]
          },
          "metadata": {},
          "execution_count": 68
        }
      ]
    },
    {
      "cell_type": "code",
      "metadata": {
        "colab": {
          "base_uri": "https://localhost:8080/",
          "height": 297
        },
        "id": "P2AwzgE1u1AO",
        "outputId": "538a997b-df58-4b34-c50c-f1b5ccf1a6c9"
      },
      "source": [
        "total_exports"
      ],
      "execution_count": 69,
      "outputs": [
        {
          "output_type": "execute_result",
          "data": {
            "text/html": [
              "<div>\n",
              "<style scoped>\n",
              "    .dataframe tbody tr th:only-of-type {\n",
              "        vertical-align: middle;\n",
              "    }\n",
              "\n",
              "    .dataframe tbody tr th {\n",
              "        vertical-align: top;\n",
              "    }\n",
              "\n",
              "    .dataframe thead th {\n",
              "        text-align: right;\n",
              "    }\n",
              "</style>\n",
              "<table border=\"1\" class=\"dataframe\">\n",
              "  <thead>\n",
              "    <tr style=\"text-align: right;\">\n",
              "      <th></th>\n",
              "      <th>Country export</th>\n",
              "      <th>Count</th>\n",
              "      <th>Value</th>\n",
              "      <th>Percent</th>\n",
              "    </tr>\n",
              "  </thead>\n",
              "  <tbody>\n",
              "    <tr>\n",
              "      <th>0</th>\n",
              "      <td>China</td>\n",
              "      <td>1657</td>\n",
              "      <td>32977046000</td>\n",
              "      <td>20.589640</td>\n",
              "    </tr>\n",
              "    <tr>\n",
              "      <th>1</th>\n",
              "      <td>France</td>\n",
              "      <td>919</td>\n",
              "      <td>18614332000</td>\n",
              "      <td>11.622096</td>\n",
              "    </tr>\n",
              "    <tr>\n",
              "      <th>2</th>\n",
              "      <td>USA</td>\n",
              "      <td>1464</td>\n",
              "      <td>18355306000</td>\n",
              "      <td>11.460370</td>\n",
              "    </tr>\n",
              "    <tr>\n",
              "      <th>3</th>\n",
              "      <td>South Korea</td>\n",
              "      <td>1134</td>\n",
              "      <td>14621146000</td>\n",
              "      <td>9.128899</td>\n",
              "    </tr>\n",
              "    <tr>\n",
              "      <th>4</th>\n",
              "      <td>Russia</td>\n",
              "      <td>766</td>\n",
              "      <td>13223000000</td>\n",
              "      <td>8.255949</td>\n",
              "    </tr>\n",
              "    <tr>\n",
              "      <th>5</th>\n",
              "      <td>Japan</td>\n",
              "      <td>1257</td>\n",
              "      <td>11948976000</td>\n",
              "      <td>7.460496</td>\n",
              "    </tr>\n",
              "    <tr>\n",
              "      <th>6</th>\n",
              "      <td>Germany</td>\n",
              "      <td>1295</td>\n",
              "      <td>11343233000</td>\n",
              "      <td>7.082292</td>\n",
              "    </tr>\n",
              "    <tr>\n",
              "      <th>7</th>\n",
              "      <td>Canada</td>\n",
              "      <td>603</td>\n",
              "      <td>10684000000</td>\n",
              "      <td>6.670692</td>\n",
              "    </tr>\n",
              "  </tbody>\n",
              "</table>\n",
              "</div>"
            ],
            "text/plain": [
              "  Country export  Count        Value    Percent\n",
              "0          China   1657  32977046000  20.589640\n",
              "1         France    919  18614332000  11.622096\n",
              "2            USA   1464  18355306000  11.460370\n",
              "3    South Korea   1134  14621146000   9.128899\n",
              "4         Russia    766  13223000000   8.255949\n",
              "5          Japan   1257  11948976000   7.460496\n",
              "6        Germany   1295  11343233000   7.082292\n",
              "7         Canada    603  10684000000   6.670692"
            ]
          },
          "metadata": {},
          "execution_count": 69
        }
      ]
    },
    {
      "cell_type": "code",
      "metadata": {
        "colab": {
          "base_uri": "https://localhost:8080/",
          "height": 250
        },
        "id": "4DeqU0OwvTqN",
        "outputId": "3c0bf170-6af4-4db0-aa32-21c32e5a0f87"
      },
      "source": [
        "plt.pie(total_exports.Percent, labels=total_exports.Country_import, autopct=\"%0.1f %%\", explode=(0.05, 0.04, 0.05, 0,0,0,0,0))\n",
        "plt.axis(\"equal\")\n",
        "plt.show()"
      ],
      "execution_count": 75,
      "outputs": [
        {
          "output_type": "display_data",
          "data": {
            "image/png": "[encoded data removed]",
            "text/plain": [
              "<Figure size 432x288 with 1 Axes>"
            ]
          },
          "metadata": {}
        }
      ]
    },
    {
      "cell_type": "code",
      "metadata": {
        "colab": {
          "base_uri": "https://localhost:8080/",
          "height": 173
        },
        "id": "-I3IZHYS5F5l",
        "outputId": "cbfed99e-e0fa-4392-bf53-cb427439b208"
      },
      "source": [
        "total_transports_imports"
      ],
      "execution_count": 81,
      "outputs": [
        {
          "output_type": "execute_result",
          "data": {
            "text/html": [
              "<div>\n",
              "<style scoped>\n",
              "    .dataframe tbody tr th:only-of-type {\n",
              "        vertical-align: middle;\n",
              "    }\n",
              "\n",
              "    .dataframe tbody tr th {\n",
              "        vertical-align: top;\n",
              "    }\n",
              "\n",
              "    .dataframe thead th {\n",
              "        text-align: right;\n",
              "    }\n",
              "</style>\n",
              "<table border=\"1\" class=\"dataframe\">\n",
              "  <thead>\n",
              "    <tr style=\"text-align: right;\">\n",
              "      <th></th>\n",
              "      <th>Transports</th>\n",
              "      <th>Total</th>\n",
              "    </tr>\n",
              "  </thead>\n",
              "  <tbody>\n",
              "    <tr>\n",
              "      <th>0</th>\n",
              "      <td>Sea</td>\n",
              "      <td>65592622000</td>\n",
              "    </tr>\n",
              "    <tr>\n",
              "      <th>1</th>\n",
              "      <td>Rail</td>\n",
              "      <td>34505043000</td>\n",
              "    </tr>\n",
              "    <tr>\n",
              "      <th>2</th>\n",
              "      <td>Air</td>\n",
              "      <td>32785147000</td>\n",
              "    </tr>\n",
              "    <tr>\n",
              "      <th>3</th>\n",
              "      <td>Road</td>\n",
              "      <td>27280486000</td>\n",
              "    </tr>\n",
              "  </tbody>\n",
              "</table>\n",
              "</div>"
            ],
            "text/plain": [
              "  Transports        Total\n",
              "0        Sea  65592622000\n",
              "1       Rail  34505043000\n",
              "2        Air  32785147000\n",
              "3       Road  27280486000"
            ]
          },
          "metadata": {},
          "execution_count": 81
        }
      ]
    },
    {
      "cell_type": "code",
      "metadata": {
        "colab": {
          "base_uri": "https://localhost:8080/",
          "height": 264
        },
        "id": "OKnd3YShwsxm",
        "outputId": "7e6d0035-5545-4f50-f53f-737dd5a0c556"
      },
      "source": [
        "plt.pie(total_transports_imports.Total, labels=total_transports_imports.Transports, autopct=\"%0.1f %%\", explode=(0, 0, 0.1,0))\n",
        "plt.axis(\"equal\")\n",
        "plt.title('Importación')\n",
        "plt.show()"
      ],
      "execution_count": 94,
      "outputs": [
        {
          "output_type": "display_data",
          "data": {
            "image/png": "[encoded data removed]",
            "text/plain": [
              "<Figure size 432x288 with 1 Axes>"
            ]
          },
          "metadata": {}
        }
      ]
    },
    {
      "cell_type": "code",
      "metadata": {
        "colab": {
          "base_uri": "https://localhost:8080/",
          "height": 266
        },
        "id": "aXfKvA3j5dBc",
        "outputId": "799f8e3a-b99b-4c77-cd5f-ea75b878fff9"
      },
      "source": [
        "plt.pie(total_transports_exports.Total, labels=total_transports_exports.Transports, autopct=\"%0.1f %%\", explode=(0, 0, 0,0.1))\n",
        "plt.axis(\"equal\")\n",
        "plt.title('Exportación')\n",
        "plt.show()"
      ],
      "execution_count": 95,
      "outputs": [
        {
          "output_type": "display_data",
          "data": {
            "image/png": "[encoded data removed]",
            "text/plain": [
              "<Figure size 432x288 with 1 Axes>"
            ]
          },
          "metadata": {}
        }
      ]
    },
    {
      "cell_type": "code",
      "metadata": {
        "colab": {
          "base_uri": "https://localhost:8080/",
          "height": 388
        },
        "id": "huJVMZFy_EN8",
        "outputId": "d9501fc4-a0df-408b-ed80-e71aecaa2618"
      },
      "source": [
        "total_imports.Value.plot(kind = 'bar', \n",
        "             stacked = 'True',\n",
        "             alpha = 0.50,\n",
        "             width = 0.9,\n",
        "             figsize=(9,4));"
      ],
      "execution_count": 140,
      "outputs": [
        {
          "output_type": "display_data",
          "data": {
            "image/png": "[encoded data removed]",
            "text/plain": [
              "<Figure size 648x288 with 1 Axes>"
            ]
          },
          "metadata": {
            "needs_background": "light"
          }
        }
      ]
    },
    {
      "cell_type": "code",
      "metadata": {
        "colab": {
          "base_uri": "https://localhost:8080/",
          "height": 273
        },
        "id": "ONrNFmoFAMZk",
        "outputId": "843cbd11-c36c-4a2f-eddc-6860b6112d29"
      },
      "source": [
        "total_exports.plot(kind = 'bar', \n",
        "             stacked = 'True',\n",
        "             alpha = 0.50,\n",
        "             width = 0.9,\n",
        "             figsize=(9,4));"
      ],
      "execution_count": 141,
      "outputs": [
        {
          "output_type": "display_data",
          "data": {
            "image/png": "[encoded data removed]",
            "text/plain": [
              "<Figure size 648x288 with 1 Axes>"
            ]
          },
          "metadata": {
            "needs_background": "light"
          }
        }
      ]
    }
  ]
}